{
 "cells": [
  {
   "cell_type": "code",
   "execution_count": 1,
   "metadata": {},
   "outputs": [],
   "source": [
    "import pandas as pd\n",
    "import numpy as np\n",
    "import matplotlib.pyplot as plt"
   ]
  },
  {
   "cell_type": "code",
   "execution_count": 23,
   "metadata": {},
   "outputs": [
    {
     "name": "stdout",
     "output_type": "stream",
     "text": [
      "\u001b[1;31;47m CustomerNotAllowedException because blacklisted value is 0\n"
     ]
    }
   ],
   "source": [
    "import re\n",
    "data_loc = '/Users/pawan/Desktop/Edureka Python/Module 3'\n",
    "file_name = 'FairDealCustomerData.csv'\n",
    "\n",
    "class CustomerNotAllowedException(Exception):\n",
    "  pass\n",
    "\n",
    "class Customer:\n",
    "  def __init__(self, last_name, title, first_name, blacklisted):\n",
    "    self.last_name = last_name\n",
    "    self.title = title\n",
    "    self.first_name = first_name\n",
    "    self.blacklisted = blacklisted\n",
    "\n",
    "fileObject = open(f\"{data_loc}/{file_name}\", 'r')\n",
    "fileContent = fileObject.read()\n",
    "records = fileContent.split('\\n')[:-1]\n",
    "p_ln = re.compile(r'[A-Za-z]+,')\n",
    "p_ti = re.compile(r',\\s[A-Za-z]+\\.')\n",
    "p_fn = re.compile(r'\\.[\\sA-Za-z/]+\\,')\n",
    "p_fl = re.compile(r'\\d')\n",
    "\n",
    "def createOrder(cust):\n",
    "  try:\n",
    "    if cust.blacklisted == 0:\n",
    "      raise CustomerNotAllowedException(cust.blacklisted)\n",
    "    else:\n",
    "      pass\n",
    "  except CustomerNotAllowedException as err:\n",
    "    print(f\"\\033[1;31;47m CustomerNotAllowedException because blacklisted value is {err}\")\n",
    "\n",
    "\n",
    "\n",
    "def customerCreate(a):\n",
    "  last_name = re.findall(p_ln, a)[0][:-2]\n",
    "  title = re.findall(p_ti, a)[0][2:-1]\n",
    "  first_name = re.findall(p_fn, a)[0][2:-2]\n",
    "  flag = int(re.findall(p_fl,a)[0])\n",
    "  return Customer(last_name, title, first_name, flag)\n",
    "  \n",
    "\n",
    "customerInput = [customerCreate(x) for x in records]\n",
    "\n",
    "cust = customerCreate(records[5])\n",
    "createOrder(cust)"
   ]
  },
  {
   "cell_type": "code",
   "execution_count": null,
   "metadata": {},
   "outputs": [],
   "source": []
  }
 ],
 "metadata": {
  "kernelspec": {
   "display_name": "Python 3",
   "language": "python",
   "name": "python3"
  },
  "language_info": {
   "codemirror_mode": {
    "name": "ipython",
    "version": 3
   },
   "file_extension": ".py",
   "mimetype": "text/x-python",
   "name": "python",
   "nbconvert_exporter": "python",
   "pygments_lexer": "ipython3",
   "version": "3.7.3"
  }
 },
 "nbformat": 4,
 "nbformat_minor": 2
}
