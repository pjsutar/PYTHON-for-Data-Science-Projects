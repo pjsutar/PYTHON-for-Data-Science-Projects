{
 "cells": [
  {
   "cell_type": "code",
   "execution_count": 1,
   "metadata": {},
   "outputs": [],
   "source": [
    "import numpy as np\n",
    "import pandas as pd\n",
    "import matplotlib.pyplot as plt"
   ]
  },
  {
   "cell_type": "code",
   "execution_count": 2,
   "metadata": {},
   "outputs": [],
   "source": [
    "data = pd.read_csv('bank-data.csv')"
   ]
  },
  {
   "cell_type": "code",
   "execution_count": 3,
   "metadata": {},
   "outputs": [
    {
     "data": {
      "text/html": [
       "<div>\n",
       "<style scoped>\n",
       "    .dataframe tbody tr th:only-of-type {\n",
       "        vertical-align: middle;\n",
       "    }\n",
       "\n",
       "    .dataframe tbody tr th {\n",
       "        vertical-align: top;\n",
       "    }\n",
       "\n",
       "    .dataframe thead th {\n",
       "        text-align: right;\n",
       "    }\n",
       "</style>\n",
       "<table border=\"1\" class=\"dataframe\">\n",
       "  <thead>\n",
       "    <tr style=\"text-align: right;\">\n",
       "      <th></th>\n",
       "      <th>age</th>\n",
       "      <th>job</th>\n",
       "      <th>marital</th>\n",
       "      <th>y</th>\n",
       "    </tr>\n",
       "  </thead>\n",
       "  <tbody>\n",
       "    <tr>\n",
       "      <th>0</th>\n",
       "      <td>20</td>\n",
       "      <td>student</td>\n",
       "      <td>single</td>\n",
       "      <td>yes</td>\n",
       "    </tr>\n",
       "    <tr>\n",
       "      <th>1</th>\n",
       "      <td>32</td>\n",
       "      <td>management</td>\n",
       "      <td>single</td>\n",
       "      <td>yes</td>\n",
       "    </tr>\n",
       "    <tr>\n",
       "      <th>2</th>\n",
       "      <td>49</td>\n",
       "      <td>technician</td>\n",
       "      <td>married</td>\n",
       "      <td>yes</td>\n",
       "    </tr>\n",
       "    <tr>\n",
       "      <th>3</th>\n",
       "      <td>32</td>\n",
       "      <td>blue-collar</td>\n",
       "      <td>married</td>\n",
       "      <td>yes</td>\n",
       "    </tr>\n",
       "    <tr>\n",
       "      <th>4</th>\n",
       "      <td>33</td>\n",
       "      <td>management</td>\n",
       "      <td>married</td>\n",
       "      <td>yes</td>\n",
       "    </tr>\n",
       "  </tbody>\n",
       "</table>\n",
       "</div>"
      ],
      "text/plain": [
       "   age          job  marital    y\n",
       "0   20      student   single  yes\n",
       "1   32   management   single  yes\n",
       "2   49   technician  married  yes\n",
       "3   32  blue-collar  married  yes\n",
       "4   33   management  married  yes"
      ]
     },
     "execution_count": 3,
     "metadata": {},
     "output_type": "execute_result"
    }
   ],
   "source": [
    "data.head()"
   ]
  },
  {
   "cell_type": "code",
   "execution_count": 4,
   "metadata": {},
   "outputs": [
    {
     "name": "stdout",
     "output_type": "stream",
     "text": [
      "0      1\n",
      "1      1\n",
      "2      1\n",
      "3      1\n",
      "4      1\n",
      "5      1\n",
      "6      1\n",
      "7      1\n",
      "8      1\n",
      "9      1\n",
      "10     1\n",
      "11     1\n",
      "12     1\n",
      "13     1\n",
      "14     1\n",
      "15     1\n",
      "16     1\n",
      "17     1\n",
      "18     1\n",
      "19     1\n",
      "20     1\n",
      "21     1\n",
      "22     1\n",
      "23     1\n",
      "24     1\n",
      "25     1\n",
      "26     1\n",
      "27     1\n",
      "28     1\n",
      "29     1\n",
      "      ..\n",
      "417    1\n",
      "418    1\n",
      "419    1\n",
      "420    1\n",
      "421    1\n",
      "422    1\n",
      "423    1\n",
      "424    1\n",
      "425    1\n",
      "426    1\n",
      "427    1\n",
      "428    1\n",
      "429    1\n",
      "430    1\n",
      "431    1\n",
      "432    1\n",
      "433    1\n",
      "434    1\n",
      "435    1\n",
      "436    1\n",
      "437    1\n",
      "438    1\n",
      "439    1\n",
      "440    1\n",
      "441    1\n",
      "442    1\n",
      "443    1\n",
      "444    1\n",
      "445    1\n",
      "446    1\n",
      "Name: y, Length: 447, dtype: object\n"
     ]
    }
   ],
   "source": [
    "y = data['y']\n",
    "y = y.replace(['yes','no'],(1,0))\n",
    "print(y)"
   ]
  },
  {
   "cell_type": "code",
   "execution_count": 6,
   "metadata": {},
   "outputs": [
    {
     "data": {
      "text/plain": [
       "management       131\n",
       "technician        83\n",
       "blue-collar       69\n",
       "admin.            58\n",
       "services          38\n",
       "self-employed     20\n",
       "student           19\n",
       "entrepreneur      15\n",
       "housemaid         14\n",
       "Name: job, dtype: int64"
      ]
     },
     "execution_count": 6,
     "metadata": {},
     "output_type": "execute_result"
    }
   ],
   "source": [
    "data['job'].value_counts()"
   ]
  },
  {
   "cell_type": "code",
   "execution_count": 7,
   "metadata": {},
   "outputs": [
    {
     "data": {
      "text/plain": [
       "0            student\n",
       "1         management\n",
       "2         technician\n",
       "3        blue-collar\n",
       "4         management\n",
       "5             admin.\n",
       "6        blue-collar\n",
       "7         technician\n",
       "8         management\n",
       "9             admin.\n",
       "10          services\n",
       "11        management\n",
       "12          services\n",
       "13           student\n",
       "14           student\n",
       "15        technician\n",
       "16     self-employed\n",
       "17        management\n",
       "18            admin.\n",
       "19        management\n",
       "20        technician\n",
       "21       blue-collar\n",
       "22        management\n",
       "23       blue-collar\n",
       "24       blue-collar\n",
       "25            admin.\n",
       "26       blue-collar\n",
       "27      entrepreneur\n",
       "28       blue-collar\n",
       "29      entrepreneur\n",
       "           ...      \n",
       "417    self-employed\n",
       "418         services\n",
       "419       technician\n",
       "420      blue-collar\n",
       "421       technician\n",
       "422       technician\n",
       "423       management\n",
       "424        housemaid\n",
       "425       technician\n",
       "426          student\n",
       "427       management\n",
       "428       management\n",
       "429           admin.\n",
       "430           admin.\n",
       "431      blue-collar\n",
       "432      blue-collar\n",
       "433     entrepreneur\n",
       "434           admin.\n",
       "435      blue-collar\n",
       "436       management\n",
       "437       management\n",
       "438      blue-collar\n",
       "439       management\n",
       "440       management\n",
       "441       management\n",
       "442       technician\n",
       "443    self-employed\n",
       "444      blue-collar\n",
       "445           admin.\n",
       "446      blue-collar\n",
       "Name: job, Length: 447, dtype: object"
      ]
     },
     "execution_count": 7,
     "metadata": {},
     "output_type": "execute_result"
    }
   ],
   "source": [
    "data['job']"
   ]
  },
  {
   "cell_type": "code",
   "execution_count": 8,
   "metadata": {},
   "outputs": [
    {
     "name": "stdout",
     "output_type": "stream",
     "text": [
      "Enter your profession :str\n"
     ]
    }
   ],
   "source": [
    "profession = input('Enter your profession :')"
   ]
  },
  {
   "cell_type": "code",
   "execution_count": null,
   "metadata": {},
   "outputs": [],
   "source": [
    "if profession "
   ]
  }
 ],
 "metadata": {
  "kernelspec": {
   "display_name": "Python 3",
   "language": "python",
   "name": "python3"
  },
  "language_info": {
   "codemirror_mode": {
    "name": "ipython",
    "version": 3
   },
   "file_extension": ".py",
   "mimetype": "text/x-python",
   "name": "python",
   "nbconvert_exporter": "python",
   "pygments_lexer": "ipython3",
   "version": "3.7.3"
  }
 },
 "nbformat": 4,
 "nbformat_minor": 2
}
