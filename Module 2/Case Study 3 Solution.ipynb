{
 "cells": [
  {
   "cell_type": "code",
   "execution_count": 2,
   "metadata": {},
   "outputs": [
    {
     "name": "stdout",
     "output_type": "stream",
     "text": [
      "Welcome to LifeTel Telecom services.\n",
      "Enter your last name (as per passport): Sutar\n",
      "Please enter your Social ID to activate the purchased SIM: PJS@47964796\n",
      "Thank you Sutar! For security reasons, your social ID is encoded. Your account is now verified.\n",
      "The encoded ID is: b'\\xff\\xfeP\\x00J\\x00S\\x00@\\x004\\x007\\x009\\x006\\x004\\x007\\x009\\x006\\x00'\n",
      "Do you want to decode the Ref ID that was entered?(Yes/No): Yes\n",
      "The decoded version of your id is: PJS@47964796\n"
     ]
    }
   ],
   "source": [
    "import re\n",
    "print(\"Welcome to LifeTel Telecom services.\")\n",
    "name = input('Enter your last name (as per passport): ')\n",
    "Ref_ID = input('Please enter your Social ID to activate the purchased SIM: ')\n",
    "A = True\n",
    "while A:\n",
    "    if len(Ref_ID) < 12:\n",
    "        break\n",
    "    elif not re.search('[0-9]',Ref_ID):\n",
    "        break\n",
    "    elif not re.search('[A-Z]',Ref_ID):\n",
    "        break\n",
    "    elif not re.search('[@#$]',Ref_ID):\n",
    "        break\n",
    "    else:\n",
    "        encoded_ID = Ref_ID.encode('UTF-16','strict')\n",
    "        print(f'Thank you {name}! For security reasons, your social ID is encoded. Your account is now verified.')\n",
    "        print(f'The encoded ID is: {encoded_ID}')\n",
    "        A = False\n",
    "if A:\n",
    "    print('Please enter a valid Social ID to proceed further.')\n",
    "\n",
    "choice = None\n",
    "while choice not in ('Yes', 'No'):\n",
    "    choice = input('Do you want to decode the Ref ID that was entered?(Yes/No): ')\n",
    "    if choice == 'Yes':\n",
    "        decoded_ID = encoded_ID.decode('UTF-16','strict')\n",
    "        print(f'The decoded version of your id is: {decoded_ID}')\n",
    "    elif choice == 'No':\n",
    "        print('Thank you!')\n",
    "    else:\n",
    "        print('Please enter Yes or No.')"
   ]
  },
  {
   "cell_type": "code",
   "execution_count": null,
   "metadata": {},
   "outputs": [],
   "source": []
  }
 ],
 "metadata": {
  "kernelspec": {
   "display_name": "Python 3",
   "language": "python",
   "name": "python3"
  },
  "language_info": {
   "codemirror_mode": {
    "name": "ipython",
    "version": 3
   },
   "file_extension": ".py",
   "mimetype": "text/x-python",
   "name": "python",
   "nbconvert_exporter": "python",
   "pygments_lexer": "ipython3",
   "version": "3.7.3"
  }
 },
 "nbformat": 4,
 "nbformat_minor": 2
}
