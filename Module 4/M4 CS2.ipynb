{
 "cells": [
  {
   "cell_type": "code",
   "execution_count": 3,
   "metadata": {},
   "outputs": [],
   "source": [
    "import numpy as np\n",
    "import pandas as pd\n",
    "\n",
    "MathScore = pd.read_csv('MathScoreTerm1.csv')\n",
    "DSScore = pd.read_csv('DSScoreTerm1.csv')\n",
    "PhysicsScore = pd.read_csv('PhysicsScoreTerm1.csv')\n",
    "MathScore = MathScore.drop('Name',1)\n",
    "MathScore = MathScore.drop('Ethinicity',1)\n",
    "DSScore = DSScore.drop('Name',1)\n",
    "DSScore = DSScore.drop('Ethinicity',1)\n",
    "PhysicsScore = PhysicsScore.drop('Name',1)\n",
    "PhysicsScore = PhysicsScore.drop('Ethinicity',1)\n",
    "\n",
    "#Prints [row],[col] Array index where it is null\n",
    "np.where(pd.isnull(MathScore))\n",
    "\n",
    "#Prints [row],[col] Array index where it is null\n",
    "np.where(pd.isnull(DSScore))\n",
    "\n",
    "#Prints [row],[col] Array index where it is null\n",
    "np.where(pd.isnull(PhysicsScore))\n",
    "\n",
    "MathScore[\"Score\"].fillna(0, inplace = True)\n",
    "DSScore[\"Score\"].fillna(0, inplace = True)\n",
    "PhysicsScore[\"Score\"].fillna(0, inplace = True)\n",
    "\n",
    "merged = pd.concat([MathScore,DSScore,PhysicsScore], axis=0)\n",
    "merged = merged.replace(['M','F'],[1,2])\n",
    "merged.to_csv('Final_Score.csv')"
   ]
  },
  {
   "cell_type": "code",
   "execution_count": null,
   "metadata": {},
   "outputs": [],
   "source": []
  }
 ],
 "metadata": {
  "kernelspec": {
   "display_name": "Python 3",
   "language": "python",
   "name": "python3"
  },
  "language_info": {
   "codemirror_mode": {
    "name": "ipython",
    "version": 3
   },
   "file_extension": ".py",
   "mimetype": "text/x-python",
   "name": "python",
   "nbconvert_exporter": "python",
   "pygments_lexer": "ipython3",
   "version": "3.7.3"
  }
 },
 "nbformat": 4,
 "nbformat_minor": 2
}
